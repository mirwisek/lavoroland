{
 "cells": [
  {
   "cell_type": "markdown",
   "metadata": {},
   "source": [
    "# Data preprocessing: Numbeo Dataset"
   ]
  },
  {
   "cell_type": "code",
   "execution_count": 1,
   "metadata": {},
   "outputs": [],
   "source": [
    "import pandas as pd\n",
    "import requests\n",
    "from tqdm import tqdm"
   ]
  },
  {
   "cell_type": "code",
   "execution_count": 2,
   "metadata": {},
   "outputs": [],
   "source": [
    "api_key = 'wl1rvko3ziykgx'"
   ]
  },
  {
   "cell_type": "markdown",
   "metadata": {},
   "source": [
    "## Creating Tables"
   ]
  },
  {
   "cell_type": "markdown",
   "metadata": {},
   "source": [
    "### 1. countries.csv"
   ]
  },
  {
   "cell_type": "code",
   "execution_count": 4,
   "metadata": {},
   "outputs": [],
   "source": [
    "countries_eu = ['Austria', 'Belgium', 'Bulgaria', 'Croatia', 'Cyprus', 'Czech Republic', 'Denmark', 'Estonia',\n",
    "                'Finland', 'France', 'Germany', 'Greece', 'Hungary', 'Ireland', 'Italy', 'Latvia', 'Lithuania',\n",
    "                'Luxembourg', 'Malta', 'Netherlands', 'Poland', 'Portugal', 'Romania', 'Slovakia', 'Slovenia',\n",
    "                'Spain', 'Sweden']\n",
    "\n",
    "# Create a dataframe with column: country\n",
    "df_countries = pd.DataFrame(countries_eu, columns=['country'])\n",
    "\n",
    "# Create a column with corresponding flag image\n",
    "# For each country, get the image from the folder 'img/flags'\n",
    "df_countries['flag'] = df_countries['country'].apply(lambda x: f'./img/flags/{x}.png')\n",
    "\n",
    "# Export df_countries to csv\n",
    "df_countries.to_csv('./data/countries.csv', index=False)"
   ]
  },
  {
   "cell_type": "markdown",
   "metadata": {},
   "source": [
    "### 2. country_prices.csv"
   ]
  },
  {
   "cell_type": "code",
   "execution_count": 5,
   "metadata": {},
   "outputs": [
    {
     "name": "stderr",
     "output_type": "stream",
     "text": [
      "countries:   0%|          | 0/27 [00:00<?, ?it/s]"
     ]
    },
    {
     "name": "stderr",
     "output_type": "stream",
     "text": [
      "countries: 100%|██████████| 27/27 [00:40<00:00,  1.51s/it]\n"
     ]
    }
   ],
   "source": [
    "dic_country_prices = []\n",
    "desired_items = [1, 18, 26, 27, 30, 33, 105, 40, 34]\n",
    "\n",
    "for country in tqdm(countries_eu, desc='countries'):\n",
    "    country_prices = pd.DataFrame.from_dict(requests.get('https://www.numbeo.com/api/country_prices?api_key=' + api_key + '&country=' + country + '&currency=EUR').json())\n",
    "    for row in country_prices.iterrows():\n",
    "        if row[1]['prices']['item_id'] in desired_items:\n",
    "            new_data = {}\n",
    "            new_data['country'] = country\n",
    "            new_data['currency'] = row[1]['currency']\n",
    "            new_data['yearLastUpdate'] = row[1]['yearLastUpdate']\n",
    "            new_data['monthLastUpdate'] = row[1]['monthLastUpdate']\n",
    "            new_data['contributors'] = row[1]['contributors']\n",
    "            new_data['item_id'] = row[1]['prices']['item_id']\n",
    "            new_data['item_name'] = row[1]['prices']['item_name']\n",
    "            new_data['average_price'] = row[1]['prices']['average_price']\n",
    "            try:\n",
    "                new_data['lowest_price'] = row[1]['prices']['lowest_price']\n",
    "            except:\n",
    "                new_data['lowest_price'] = None\n",
    "            try: \n",
    "                new_data['highest_price'] = row[1]['prices']['highest_price']\n",
    "            except:\n",
    "                new_data['highest_price'] = None\n",
    "            dic_country_prices.append(new_data)\n",
    "\n",
    "df_country_prices = pd.DataFrame.from_dict(dic_country_prices)\n",
    "df_country_prices['lowest_price'] = df_country_prices['lowest_price'].fillna(df_country_prices['average_price'])\n",
    "df_country_prices['highest_price'] = df_country_prices['highest_price'].fillna(df_country_prices['average_price'])\n",
    "\n",
    "df_country_prices.to_csv('./data/country_prices.csv', index=False)"
   ]
  },
  {
   "cell_type": "markdown",
   "metadata": {},
   "source": [
    "### 3. country_indices.csv"
   ]
  },
  {
   "cell_type": "code",
   "execution_count": 5,
   "metadata": {},
   "outputs": [
    {
     "name": "stderr",
     "output_type": "stream",
     "text": [
      "countries:   0%|          | 0/27 [00:00<?, ?it/s]"
     ]
    },
    {
     "name": "stderr",
     "output_type": "stream",
     "text": [
      "countries: 100%|██████████| 27/27 [00:49<00:00,  1.82s/it]\n"
     ]
    }
   ],
   "source": [
    "dic_country_indices = []\n",
    "\n",
    "for country in tqdm(countries_eu, desc='countries'):\n",
    "    country_indices = requests.get('https://www.numbeo.com/api/country_indices?api_key=' + api_key + '&country=' + country).json()\n",
    "    dic_country_indices.append(country_indices)\n",
    "\n",
    "df_country_indices = pd.DataFrame.from_dict(dic_country_indices)\n",
    "df_country_indices.rename(columns={'name': 'country'}, inplace=True)\n",
    "df_country_indices = df_country_indices[['country', 'quality_of_life_index', 'purchasing_power_incl_rent_index', 'rent_index', 'health_care_index', 'safety_index']]\n",
    "\n",
    "# Normalize column 'quality_of_life_index' to a scale from 0 to 100 (previously 50 to 100)\n",
    "min_value = df_country_indices['quality_of_life_index'].min()\n",
    "max_value = df_country_indices['quality_of_life_index'].max()\n",
    "df_country_indices ['quality_of_life_index'] = ((df_country_indices['quality_of_life_index'] - min_value) / (max_value - min_value)) * (100 - 0) + 0\n",
    "\n",
    "# Normalize column 'purchasing_power_incl_rent_index' to a scale from 0 to 100, but inversing the values (previously 50 to 100)\n",
    "min_value = df_country_indices['purchasing_power_incl_rent_index'].min()\n",
    "max_value = df_country_indices['purchasing_power_incl_rent_index'].max()\n",
    "df_country_indices['purchasing_power_incl_rent_index'] = 1 - ((df_country_indices['purchasing_power_incl_rent_index'] - min_value) / (max_value - min_value))\n",
    "df_country_indices['purchasing_power_incl_rent_index'] = df_country_indices['purchasing_power_incl_rent_index'] * (100 - 0) + 0\n",
    "\n",
    "# Normalize column 'rent_index' to a scale from 0 to 100, but inversing the values (previously 25 to 100)\n",
    "min_value = df_country_indices['rent_index'].min()\n",
    "max_value = df_country_indices['rent_index'].max()\n",
    "df_country_indices['rent_index'] = 1 - ((df_country_indices['rent_index'] - min_value) / (max_value - min_value))\n",
    "df_country_indices['rent_index'] = df_country_indices['rent_index'] * (100 - 0) + 0\n",
    "\n",
    "# Normalize column 'health_care_index' to a scale from 0 to 100 (previously 60 to 100)\n",
    "min_value = df_country_indices['health_care_index'].min()\n",
    "max_value = df_country_indices['health_care_index'].max()\n",
    "df_country_indices ['health_care_index'] = ((df_country_indices['health_care_index'] - min_value) / (max_value - min_value)) * (100 - 0) + 0\n",
    "\n",
    "# Normalize column 'safety_index' to a scale from 0 to 100 (previously 60 to 100)\n",
    "min_value = df_country_indices['safety_index'].min()\n",
    "max_value = df_country_indices['safety_index'].max()\n",
    "df_country_indices ['safety_index'] = ((df_country_indices['safety_index'] - min_value) / (max_value - min_value)) * (100 - 0) + 0\n",
    "\n",
    "df_country_indices.to_csv('./data/country_indices.csv', index=False)"
   ]
  },
  {
   "cell_type": "code",
   "execution_count": null,
   "metadata": {},
   "outputs": [],
   "source": [
    "'''\n",
    "For more about each index, see:\n",
    "\n",
    "quality_of_life_index -> https://www.numbeo.com/quality-of-life/indices_explained.jsp\n",
    "\n",
    "purchasing_power_incl_rent_index and rent_index -> https://www.numbeo.com/cost-of-living/cpi_explained.jsp\n",
    "\n",
    "health_care_index -> https://www.numbeo.com/health-care/indices_explained.jsp\n",
    "\n",
    "safety_index -> https://www.numbeo.com/crime/indices_explained.jsp\n",
    "\n",
    "'''"
   ]
  }
 ],
 "metadata": {
  "kernelspec": {
   "display_name": "Python 3",
   "language": "python",
   "name": "python3"
  },
  "language_info": {
   "codemirror_mode": {
    "name": "ipython",
    "version": 3
   },
   "file_extension": ".py",
   "mimetype": "text/x-python",
   "name": "python",
   "nbconvert_exporter": "python",
   "pygments_lexer": "ipython3",
   "version": "3.12.0"
  }
 },
 "nbformat": 4,
 "nbformat_minor": 2
}
